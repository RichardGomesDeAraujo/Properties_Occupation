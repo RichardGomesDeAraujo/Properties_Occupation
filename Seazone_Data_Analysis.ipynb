{
 "cells": [
  {
   "cell_type": "markdown",
   "id": "f929c7bd",
   "metadata": {},
   "source": [
    "Importar Bibliotecas"
   ]
  },
  {
   "cell_type": "code",
   "execution_count": 1,
   "id": "5874a2a2",
   "metadata": {},
   "outputs": [],
   "source": [
    "# IMPORTAR BIBLIOTECAS\n",
    "import pandas as pd\n",
    "import numpy as np"
   ]
  },
  {
   "cell_type": "markdown",
   "id": "b44e159e",
   "metadata": {},
   "source": [
    "Importar Arquivos .csv"
   ]
  },
  {
   "cell_type": "code",
   "execution_count": 2,
   "id": "da9d59e8",
   "metadata": {},
   "outputs": [],
   "source": [
    "tbl1 = pd.read_csv(r'C:\\Users\\Usuario\\Desktop\\Richard Araujo\\Currículos\\Entrevistas\\Testes\\Seazone\\desafio_details.csv')\n",
    "tbl2 = pd.read_csv(r'C:\\Users\\Usuario\\Desktop\\Richard Araujo\\Currículos\\Entrevistas\\Testes\\Seazone\\desafio_priceav.csv')"
   ]
  },
  {
   "cell_type": "markdown",
   "id": "6d9fe159",
   "metadata": {},
   "source": [
    "Visualizar os Dados dos Arquivos"
   ]
  },
  {
   "cell_type": "code",
   "execution_count": 3,
   "id": "e9a38243",
   "metadata": {},
   "outputs": [
    {
     "data": {
      "text/html": [
       "<div>\n",
       "<style scoped>\n",
       "    .dataframe tbody tr th:only-of-type {\n",
       "        vertical-align: middle;\n",
       "    }\n",
       "\n",
       "    .dataframe tbody tr th {\n",
       "        vertical-align: top;\n",
       "    }\n",
       "\n",
       "    .dataframe thead th {\n",
       "        text-align: right;\n",
       "    }\n",
       "</style>\n",
       "<table border=\"1\" class=\"dataframe\">\n",
       "  <thead>\n",
       "    <tr style=\"text-align: right;\">\n",
       "      <th></th>\n",
       "      <th>Unnamed: 0</th>\n",
       "      <th>airbnb_listing_id</th>\n",
       "      <th>suburb</th>\n",
       "      <th>ad_name</th>\n",
       "      <th>number_of_bedrooms</th>\n",
       "      <th>number_of_bathrooms</th>\n",
       "      <th>star_rating</th>\n",
       "      <th>is_superhost</th>\n",
       "      <th>number_of_reviews</th>\n",
       "    </tr>\n",
       "  </thead>\n",
       "  <tbody>\n",
       "    <tr>\n",
       "      <th>0</th>\n",
       "      <td>0</td>\n",
       "      <td>31389869</td>\n",
       "      <td>Jurerê</td>\n",
       "      <td>Lindo Apartamento em Jurerê</td>\n",
       "      <td>2.0</td>\n",
       "      <td>2.0</td>\n",
       "      <td>5.0</td>\n",
       "      <td>False</td>\n",
       "      <td>15.0</td>\n",
       "    </tr>\n",
       "    <tr>\n",
       "      <th>1</th>\n",
       "      <td>1</td>\n",
       "      <td>40010667</td>\n",
       "      <td>Canasvieiras</td>\n",
       "      <td>Residencial Arruda, 1 quarto</td>\n",
       "      <td>1.0</td>\n",
       "      <td>1.0</td>\n",
       "      <td>NaN</td>\n",
       "      <td>False</td>\n",
       "      <td>0.0</td>\n",
       "    </tr>\n",
       "    <tr>\n",
       "      <th>2</th>\n",
       "      <td>2</td>\n",
       "      <td>38905997</td>\n",
       "      <td>Ingleses</td>\n",
       "      <td>Apartamento NOVO Completo - Moderno e Sofisticado</td>\n",
       "      <td>1.0</td>\n",
       "      <td>1.0</td>\n",
       "      <td>4.5</td>\n",
       "      <td>True</td>\n",
       "      <td>13.0</td>\n",
       "    </tr>\n",
       "  </tbody>\n",
       "</table>\n",
       "</div>"
      ],
      "text/plain": [
       "   Unnamed: 0  airbnb_listing_id        suburb  \\\n",
       "0           0           31389869        Jurerê   \n",
       "1           1           40010667  Canasvieiras   \n",
       "2           2           38905997      Ingleses   \n",
       "\n",
       "                                             ad_name  number_of_bedrooms  \\\n",
       "0                        Lindo Apartamento em Jurerê                 2.0   \n",
       "1                       Residencial Arruda, 1 quarto                 1.0   \n",
       "2  Apartamento NOVO Completo - Moderno e Sofisticado                 1.0   \n",
       "\n",
       "   number_of_bathrooms  star_rating  is_superhost  number_of_reviews  \n",
       "0                  2.0          5.0         False               15.0  \n",
       "1                  1.0          NaN         False                0.0  \n",
       "2                  1.0          4.5          True               13.0  "
      ]
     },
     "execution_count": 3,
     "metadata": {},
     "output_type": "execute_result"
    }
   ],
   "source": [
    "# TABELA Details COM 4691 REGISTROS\n",
    "tbl1.head(3)"
   ]
  },
  {
   "cell_type": "code",
   "execution_count": 4,
   "id": "f0577ef3",
   "metadata": {},
   "outputs": [
    {
     "data": {
      "text/html": [
       "<div>\n",
       "<style scoped>\n",
       "    .dataframe tbody tr th:only-of-type {\n",
       "        vertical-align: middle;\n",
       "    }\n",
       "\n",
       "    .dataframe tbody tr th {\n",
       "        vertical-align: top;\n",
       "    }\n",
       "\n",
       "    .dataframe thead th {\n",
       "        text-align: right;\n",
       "    }\n",
       "</style>\n",
       "<table border=\"1\" class=\"dataframe\">\n",
       "  <thead>\n",
       "    <tr style=\"text-align: right;\">\n",
       "      <th></th>\n",
       "      <th>Unnamed: 0</th>\n",
       "      <th>Unnamed: 0.1</th>\n",
       "      <th>airbnb_listing_id</th>\n",
       "      <th>booked_on</th>\n",
       "      <th>date</th>\n",
       "      <th>price_string</th>\n",
       "      <th>occupied</th>\n",
       "    </tr>\n",
       "  </thead>\n",
       "  <tbody>\n",
       "    <tr>\n",
       "      <th>0</th>\n",
       "      <td>0</td>\n",
       "      <td>2148</td>\n",
       "      <td>40201349</td>\n",
       "      <td>blank</td>\n",
       "      <td>2020-11-15</td>\n",
       "      <td>250.0</td>\n",
       "      <td>0</td>\n",
       "    </tr>\n",
       "    <tr>\n",
       "      <th>1</th>\n",
       "      <td>1</td>\n",
       "      <td>2159</td>\n",
       "      <td>40201349</td>\n",
       "      <td>blank</td>\n",
       "      <td>2020-11-26</td>\n",
       "      <td>250.0</td>\n",
       "      <td>0</td>\n",
       "    </tr>\n",
       "    <tr>\n",
       "      <th>2</th>\n",
       "      <td>2</td>\n",
       "      <td>2160</td>\n",
       "      <td>40201349</td>\n",
       "      <td>blank</td>\n",
       "      <td>2020-11-27</td>\n",
       "      <td>250.0</td>\n",
       "      <td>0</td>\n",
       "    </tr>\n",
       "    <tr>\n",
       "      <th>3</th>\n",
       "      <td>3</td>\n",
       "      <td>2173</td>\n",
       "      <td>40201349</td>\n",
       "      <td>blank</td>\n",
       "      <td>2020-12-10</td>\n",
       "      <td>250.0</td>\n",
       "      <td>0</td>\n",
       "    </tr>\n",
       "  </tbody>\n",
       "</table>\n",
       "</div>"
      ],
      "text/plain": [
       "   Unnamed: 0  Unnamed: 0.1  airbnb_listing_id booked_on        date  \\\n",
       "0           0          2148           40201349     blank  2020-11-15   \n",
       "1           1          2159           40201349     blank  2020-11-26   \n",
       "2           2          2160           40201349     blank  2020-11-27   \n",
       "3           3          2173           40201349     blank  2020-12-10   \n",
       "\n",
       "   price_string  occupied  \n",
       "0         250.0         0  \n",
       "1         250.0         0  \n",
       "2         250.0         0  \n",
       "3         250.0         0  "
      ]
     },
     "execution_count": 4,
     "metadata": {},
     "output_type": "execute_result"
    }
   ],
   "source": [
    "# TABELA Price COM 354.520 REGISTROS\n",
    "tbl2.head(4)"
   ]
  },
  {
   "cell_type": "markdown",
   "id": "de274c03",
   "metadata": {},
   "source": [
    "Unindo os Dois Arquivos"
   ]
  },
  {
   "cell_type": "code",
   "execution_count": 5,
   "id": "75bf7d41",
   "metadata": {},
   "outputs": [
    {
     "data": {
      "text/html": [
       "<div>\n",
       "<style scoped>\n",
       "    .dataframe tbody tr th:only-of-type {\n",
       "        vertical-align: middle;\n",
       "    }\n",
       "\n",
       "    .dataframe tbody tr th {\n",
       "        vertical-align: top;\n",
       "    }\n",
       "\n",
       "    .dataframe thead th {\n",
       "        text-align: right;\n",
       "    }\n",
       "</style>\n",
       "<table border=\"1\" class=\"dataframe\">\n",
       "  <thead>\n",
       "    <tr style=\"text-align: right;\">\n",
       "      <th></th>\n",
       "      <th>Unnamed: 0_x</th>\n",
       "      <th>airbnb_listing_id</th>\n",
       "      <th>suburb</th>\n",
       "      <th>ad_name</th>\n",
       "      <th>number_of_bedrooms</th>\n",
       "      <th>number_of_bathrooms</th>\n",
       "      <th>star_rating</th>\n",
       "      <th>is_superhost</th>\n",
       "      <th>number_of_reviews</th>\n",
       "      <th>Unnamed: 0_y</th>\n",
       "      <th>Unnamed: 0.1</th>\n",
       "      <th>booked_on</th>\n",
       "      <th>date</th>\n",
       "      <th>price_string</th>\n",
       "      <th>occupied</th>\n",
       "    </tr>\n",
       "  </thead>\n",
       "  <tbody>\n",
       "    <tr>\n",
       "      <th>0</th>\n",
       "      <td>0</td>\n",
       "      <td>31389869</td>\n",
       "      <td>Jurerê</td>\n",
       "      <td>Lindo Apartamento em Jurerê</td>\n",
       "      <td>2.0</td>\n",
       "      <td>2.0</td>\n",
       "      <td>5.0</td>\n",
       "      <td>False</td>\n",
       "      <td>15.0</td>\n",
       "      <td>54466</td>\n",
       "      <td>3628239</td>\n",
       "      <td>2020-12-04 00:00:00</td>\n",
       "      <td>2020-12-04</td>\n",
       "      <td>270.0</td>\n",
       "      <td>1</td>\n",
       "    </tr>\n",
       "    <tr>\n",
       "      <th>1</th>\n",
       "      <td>0</td>\n",
       "      <td>31389869</td>\n",
       "      <td>Jurerê</td>\n",
       "      <td>Lindo Apartamento em Jurerê</td>\n",
       "      <td>2.0</td>\n",
       "      <td>2.0</td>\n",
       "      <td>5.0</td>\n",
       "      <td>False</td>\n",
       "      <td>15.0</td>\n",
       "      <td>54467</td>\n",
       "      <td>3628240</td>\n",
       "      <td>2020-12-04 00:00:00</td>\n",
       "      <td>2020-12-05</td>\n",
       "      <td>270.0</td>\n",
       "      <td>1</td>\n",
       "    </tr>\n",
       "    <tr>\n",
       "      <th>2</th>\n",
       "      <td>0</td>\n",
       "      <td>31389869</td>\n",
       "      <td>Jurerê</td>\n",
       "      <td>Lindo Apartamento em Jurerê</td>\n",
       "      <td>2.0</td>\n",
       "      <td>2.0</td>\n",
       "      <td>5.0</td>\n",
       "      <td>False</td>\n",
       "      <td>15.0</td>\n",
       "      <td>54468</td>\n",
       "      <td>3628241</td>\n",
       "      <td>2020-12-04 00:00:00</td>\n",
       "      <td>2020-12-06</td>\n",
       "      <td>270.0</td>\n",
       "      <td>1</td>\n",
       "    </tr>\n",
       "    <tr>\n",
       "      <th>3</th>\n",
       "      <td>0</td>\n",
       "      <td>31389869</td>\n",
       "      <td>Jurerê</td>\n",
       "      <td>Lindo Apartamento em Jurerê</td>\n",
       "      <td>2.0</td>\n",
       "      <td>2.0</td>\n",
       "      <td>5.0</td>\n",
       "      <td>False</td>\n",
       "      <td>15.0</td>\n",
       "      <td>54469</td>\n",
       "      <td>3628242</td>\n",
       "      <td>2020-12-04 00:00:00</td>\n",
       "      <td>2020-12-07</td>\n",
       "      <td>270.0</td>\n",
       "      <td>1</td>\n",
       "    </tr>\n",
       "  </tbody>\n",
       "</table>\n",
       "</div>"
      ],
      "text/plain": [
       "   Unnamed: 0_x  airbnb_listing_id  suburb                      ad_name  \\\n",
       "0             0           31389869  Jurerê  Lindo Apartamento em Jurerê   \n",
       "1             0           31389869  Jurerê  Lindo Apartamento em Jurerê   \n",
       "2             0           31389869  Jurerê  Lindo Apartamento em Jurerê   \n",
       "3             0           31389869  Jurerê  Lindo Apartamento em Jurerê   \n",
       "\n",
       "   number_of_bedrooms  number_of_bathrooms  star_rating  is_superhost  \\\n",
       "0                 2.0                  2.0          5.0         False   \n",
       "1                 2.0                  2.0          5.0         False   \n",
       "2                 2.0                  2.0          5.0         False   \n",
       "3                 2.0                  2.0          5.0         False   \n",
       "\n",
       "   number_of_reviews  Unnamed: 0_y  Unnamed: 0.1            booked_on  \\\n",
       "0               15.0         54466       3628239  2020-12-04 00:00:00   \n",
       "1               15.0         54467       3628240  2020-12-04 00:00:00   \n",
       "2               15.0         54468       3628241  2020-12-04 00:00:00   \n",
       "3               15.0         54469       3628242  2020-12-04 00:00:00   \n",
       "\n",
       "         date  price_string  occupied  \n",
       "0  2020-12-04         270.0         1  \n",
       "1  2020-12-05         270.0         1  \n",
       "2  2020-12-06         270.0         1  \n",
       "3  2020-12-07         270.0         1  "
      ]
     },
     "execution_count": 5,
     "metadata": {},
     "output_type": "execute_result"
    }
   ],
   "source": [
    "# REALIZANDO A UNIÃO DAS DUAS TABELAS\n",
    "tbl_alldata = pd.merge(tbl1,tbl2,on='airbnb_listing_id')\n",
    "tbl_alldata.head(4)"
   ]
  },
  {
   "cell_type": "markdown",
   "id": "863c1df6",
   "metadata": {},
   "source": [
    "Criando uma Tabela Com Todas as Colunas a Serem Analisadas"
   ]
  },
  {
   "cell_type": "code",
   "execution_count": 6,
   "id": "b1a931eb",
   "metadata": {},
   "outputs": [
    {
     "data": {
      "text/html": [
       "<div>\n",
       "<style scoped>\n",
       "    .dataframe tbody tr th:only-of-type {\n",
       "        vertical-align: middle;\n",
       "    }\n",
       "\n",
       "    .dataframe tbody tr th {\n",
       "        vertical-align: top;\n",
       "    }\n",
       "\n",
       "    .dataframe thead th {\n",
       "        text-align: right;\n",
       "    }\n",
       "</style>\n",
       "<table border=\"1\" class=\"dataframe\">\n",
       "  <thead>\n",
       "    <tr style=\"text-align: right;\">\n",
       "      <th></th>\n",
       "      <th>airbnb_listing_id</th>\n",
       "      <th>suburb</th>\n",
       "      <th>star_rating</th>\n",
       "      <th>booked_on</th>\n",
       "      <th>date</th>\n",
       "      <th>price_string</th>\n",
       "      <th>occupied</th>\n",
       "    </tr>\n",
       "  </thead>\n",
       "  <tbody>\n",
       "    <tr>\n",
       "      <th>0</th>\n",
       "      <td>31389869</td>\n",
       "      <td>Jurerê</td>\n",
       "      <td>5.0</td>\n",
       "      <td>2020-12-04 00:00:00</td>\n",
       "      <td>2020-12-04</td>\n",
       "      <td>270.0</td>\n",
       "      <td>1</td>\n",
       "    </tr>\n",
       "    <tr>\n",
       "      <th>1</th>\n",
       "      <td>31389869</td>\n",
       "      <td>Jurerê</td>\n",
       "      <td>5.0</td>\n",
       "      <td>2020-12-04 00:00:00</td>\n",
       "      <td>2020-12-05</td>\n",
       "      <td>270.0</td>\n",
       "      <td>1</td>\n",
       "    </tr>\n",
       "    <tr>\n",
       "      <th>2</th>\n",
       "      <td>31389869</td>\n",
       "      <td>Jurerê</td>\n",
       "      <td>5.0</td>\n",
       "      <td>2020-12-04 00:00:00</td>\n",
       "      <td>2020-12-06</td>\n",
       "      <td>270.0</td>\n",
       "      <td>1</td>\n",
       "    </tr>\n",
       "    <tr>\n",
       "      <th>3</th>\n",
       "      <td>31389869</td>\n",
       "      <td>Jurerê</td>\n",
       "      <td>5.0</td>\n",
       "      <td>2020-12-04 00:00:00</td>\n",
       "      <td>2020-12-07</td>\n",
       "      <td>270.0</td>\n",
       "      <td>1</td>\n",
       "    </tr>\n",
       "  </tbody>\n",
       "</table>\n",
       "</div>"
      ],
      "text/plain": [
       "   airbnb_listing_id  suburb  star_rating            booked_on        date  \\\n",
       "0           31389869  Jurerê          5.0  2020-12-04 00:00:00  2020-12-04   \n",
       "1           31389869  Jurerê          5.0  2020-12-04 00:00:00  2020-12-05   \n",
       "2           31389869  Jurerê          5.0  2020-12-04 00:00:00  2020-12-06   \n",
       "3           31389869  Jurerê          5.0  2020-12-04 00:00:00  2020-12-07   \n",
       "\n",
       "   price_string  occupied  \n",
       "0         270.0         1  \n",
       "1         270.0         1  \n",
       "2         270.0         1  \n",
       "3         270.0         1  "
      ]
     },
     "execution_count": 6,
     "metadata": {},
     "output_type": "execute_result"
    }
   ],
   "source": [
    "# CRIANDO UMA TABELA PADRONIZADA\n",
    "t = tbl_alldata[['airbnb_listing_id','suburb','star_rating','booked_on','date','price_string','occupied']]\n",
    "t.head(4)"
   ]
  },
  {
   "cell_type": "markdown",
   "id": "49b54861",
   "metadata": {},
   "source": [
    "Respondendo a Primeira Pergunta"
   ]
  },
  {
   "cell_type": "code",
   "execution_count": 8,
   "id": "80d0ce05",
   "metadata": {},
   "outputs": [
    {
     "data": {
      "text/html": [
       "<div>\n",
       "<style scoped>\n",
       "    .dataframe tbody tr th:only-of-type {\n",
       "        vertical-align: middle;\n",
       "    }\n",
       "\n",
       "    .dataframe tbody tr th {\n",
       "        vertical-align: top;\n",
       "    }\n",
       "\n",
       "    .dataframe thead th {\n",
       "        text-align: right;\n",
       "    }\n",
       "</style>\n",
       "<table border=\"1\" class=\"dataframe\">\n",
       "  <thead>\n",
       "    <tr style=\"text-align: right;\">\n",
       "      <th></th>\n",
       "      <th>airbnb_listing_id</th>\n",
       "      <th>suburb</th>\n",
       "    </tr>\n",
       "  </thead>\n",
       "  <tbody>\n",
       "    <tr>\n",
       "      <th>0</th>\n",
       "      <td>31389869</td>\n",
       "      <td>Jurerê</td>\n",
       "    </tr>\n",
       "    <tr>\n",
       "      <th>1</th>\n",
       "      <td>31389869</td>\n",
       "      <td>Jurerê</td>\n",
       "    </tr>\n",
       "    <tr>\n",
       "      <th>2</th>\n",
       "      <td>31389869</td>\n",
       "      <td>Jurerê</td>\n",
       "    </tr>\n",
       "    <tr>\n",
       "      <th>3</th>\n",
       "      <td>31389869</td>\n",
       "      <td>Jurerê</td>\n",
       "    </tr>\n",
       "  </tbody>\n",
       "</table>\n",
       "</div>"
      ],
      "text/plain": [
       "   airbnb_listing_id  suburb\n",
       "0           31389869  Jurerê\n",
       "1           31389869  Jurerê\n",
       "2           31389869  Jurerê\n",
       "3           31389869  Jurerê"
      ]
     },
     "execution_count": 8,
     "metadata": {},
     "output_type": "execute_result"
    }
   ],
   "source": [
    "# CRIANDO UMA TABELA PARA RESPONDER A PRIMEIRA PERGUNTA\n",
    "t1 = tbl_alldata[['airbnb_listing_id','suburb']]\n",
    "t1.head(4)"
   ]
  },
  {
   "cell_type": "code",
   "execution_count": 9,
   "id": "53460ebc",
   "metadata": {},
   "outputs": [
    {
     "data": {
      "text/html": [
       "<div>\n",
       "<style scoped>\n",
       "    .dataframe tbody tr th:only-of-type {\n",
       "        vertical-align: middle;\n",
       "    }\n",
       "\n",
       "    .dataframe tbody tr th {\n",
       "        vertical-align: top;\n",
       "    }\n",
       "\n",
       "    .dataframe thead th {\n",
       "        text-align: right;\n",
       "    }\n",
       "</style>\n",
       "<table border=\"1\" class=\"dataframe\">\n",
       "  <thead>\n",
       "    <tr style=\"text-align: right;\">\n",
       "      <th></th>\n",
       "      <th></th>\n",
       "    </tr>\n",
       "    <tr>\n",
       "      <th>suburb</th>\n",
       "      <th>airbnb_listing_id</th>\n",
       "    </tr>\n",
       "  </thead>\n",
       "  <tbody>\n",
       "    <tr>\n",
       "      <th rowspan=\"5\" valign=\"top\">Canasvieiras</th>\n",
       "      <th>108658</th>\n",
       "    </tr>\n",
       "    <tr>\n",
       "      <th>279586</th>\n",
       "    </tr>\n",
       "    <tr>\n",
       "      <th>333619</th>\n",
       "    </tr>\n",
       "    <tr>\n",
       "      <th>344879</th>\n",
       "    </tr>\n",
       "    <tr>\n",
       "      <th>346042</th>\n",
       "    </tr>\n",
       "    <tr>\n",
       "      <th>...</th>\n",
       "      <th>...</th>\n",
       "    </tr>\n",
       "    <tr>\n",
       "      <th rowspan=\"5\" valign=\"top\">Lagoa da Conceição</th>\n",
       "      <th>43442412</th>\n",
       "    </tr>\n",
       "    <tr>\n",
       "      <th>43769434</th>\n",
       "    </tr>\n",
       "    <tr>\n",
       "      <th>44614390</th>\n",
       "    </tr>\n",
       "    <tr>\n",
       "      <th>44890132</th>\n",
       "    </tr>\n",
       "    <tr>\n",
       "      <th>45575044</th>\n",
       "    </tr>\n",
       "  </tbody>\n",
       "</table>\n",
       "<p>3347 rows × 0 columns</p>\n",
       "</div>"
      ],
      "text/plain": [
       "Empty DataFrame\n",
       "Columns: []\n",
       "Index: [(Canasvieiras, 108658), (Canasvieiras, 279586), (Canasvieiras, 333619), (Canasvieiras, 344879), (Canasvieiras, 346042), (Canasvieiras, 678519), (Canasvieiras, 748321), (Canasvieiras, 778447), (Canasvieiras, 785879), (Canasvieiras, 831906), (Canasvieiras, 996365), (Canasvieiras, 1340681), (Canasvieiras, 2636563), (Canasvieiras, 3215186), (Canasvieiras, 3455040), (Canasvieiras, 4624477), (Canasvieiras, 4872617), (Canasvieiras, 4965875), (Canasvieiras, 5228549), (Canasvieiras, 5314162), (Canasvieiras, 5512051), (Canasvieiras, 6523735), (Canasvieiras, 6817683), (Canasvieiras, 6974674), (Canasvieiras, 6974802), (Canasvieiras, 6974807), (Canasvieiras, 7416416), (Canasvieiras, 7761524), (Canasvieiras, 8221915), (Canasvieiras, 8304738), (Canasvieiras, 8842133), (Canasvieiras, 8878103), (Canasvieiras, 8888445), (Canasvieiras, 8918170), (Canasvieiras, 9279991), (Canasvieiras, 9288475), (Canasvieiras, 9413524), (Canasvieiras, 9590874), (Canasvieiras, 9609045), (Canasvieiras, 9651874), (Canasvieiras, 9832027), (Canasvieiras, 10048577), (Canasvieiras, 10051814), (Canasvieiras, 10082630), (Canasvieiras, 10123371), (Canasvieiras, 10305730), (Canasvieiras, 10316998), (Canasvieiras, 10329533), (Canasvieiras, 10448366), (Canasvieiras, 10583910), (Canasvieiras, 10885552), (Canasvieiras, 11066534), (Canasvieiras, 11339200), (Canasvieiras, 11440742), (Canasvieiras, 12725844), (Canasvieiras, 13297851), (Canasvieiras, 13800772), (Canasvieiras, 13958812), (Canasvieiras, 13979019), (Canasvieiras, 14049248), (Canasvieiras, 14154441), (Canasvieiras, 14300520), (Canasvieiras, 14534520), (Canasvieiras, 14593755), (Canasvieiras, 14786523), (Canasvieiras, 14806671), (Canasvieiras, 15006637), (Canasvieiras, 15059072), (Canasvieiras, 15359422), (Canasvieiras, 15428448), (Canasvieiras, 15484889), (Canasvieiras, 15495749), (Canasvieiras, 15527541), (Canasvieiras, 15536739), (Canasvieiras, 15647623), (Canasvieiras, 15657737), (Canasvieiras, 15757374), (Canasvieiras, 15785976), (Canasvieiras, 15800481), (Canasvieiras, 15901316), (Canasvieiras, 15912248), (Canasvieiras, 15962981), (Canasvieiras, 16107561), (Canasvieiras, 16112087), (Canasvieiras, 16112416), (Canasvieiras, 16132705), (Canasvieiras, 16139352), (Canasvieiras, 16147352), (Canasvieiras, 16213380), (Canasvieiras, 16229338), (Canasvieiras, 16238871), (Canasvieiras, 16271766), (Canasvieiras, 16300369), (Canasvieiras, 16307244), (Canasvieiras, 16323152), (Canasvieiras, 16343765), (Canasvieiras, 16382617), (Canasvieiras, 16393836), (Canasvieiras, 16415024), (Canasvieiras, 16416995), ...]\n",
       "\n",
       "[3347 rows x 0 columns]"
      ]
     },
     "execution_count": 9,
     "metadata": {},
     "output_type": "execute_result"
    }
   ],
   "source": [
    "# RESPONDENDO A PRIMEIRA PERGUNTA CONSIDERANDO QUE \"NÚMERO DE LISTING\" É O NÚMERO DO ANÚNCIO E NÃO A QUANTIDADE DE ANÚNCIO.\n",
    "t1.groupby(['suburb','airbnb_listing_id']).sum()"
   ]
  },
  {
   "cell_type": "code",
   "execution_count": 10,
   "id": "7bc934e6",
   "metadata": {},
   "outputs": [
    {
     "data": {
      "text/html": [
       "<div>\n",
       "<style scoped>\n",
       "    .dataframe tbody tr th:only-of-type {\n",
       "        vertical-align: middle;\n",
       "    }\n",
       "\n",
       "    .dataframe tbody tr th {\n",
       "        vertical-align: top;\n",
       "    }\n",
       "\n",
       "    .dataframe thead th {\n",
       "        text-align: right;\n",
       "    }\n",
       "</style>\n",
       "<table border=\"1\" class=\"dataframe\">\n",
       "  <thead>\n",
       "    <tr style=\"text-align: right;\">\n",
       "      <th></th>\n",
       "      <th>airbnb_listing_id</th>\n",
       "    </tr>\n",
       "    <tr>\n",
       "      <th>suburb</th>\n",
       "      <th></th>\n",
       "    </tr>\n",
       "  </thead>\n",
       "  <tbody>\n",
       "    <tr>\n",
       "      <th>Centro</th>\n",
       "      <td>19182</td>\n",
       "    </tr>\n",
       "    <tr>\n",
       "      <th>Lagoa da Conceição</th>\n",
       "      <td>23431</td>\n",
       "    </tr>\n",
       "    <tr>\n",
       "      <th>Jurerê</th>\n",
       "      <td>42857</td>\n",
       "    </tr>\n",
       "    <tr>\n",
       "      <th>Canasvieiras</th>\n",
       "      <td>92186</td>\n",
       "    </tr>\n",
       "    <tr>\n",
       "      <th>Ingleses</th>\n",
       "      <td>176864</td>\n",
       "    </tr>\n",
       "  </tbody>\n",
       "</table>\n",
       "</div>"
      ],
      "text/plain": [
       "                    airbnb_listing_id\n",
       "suburb                               \n",
       "Centro                          19182\n",
       "Lagoa da Conceição              23431\n",
       "Jurerê                          42857\n",
       "Canasvieiras                    92186\n",
       "Ingleses                       176864"
      ]
     },
     "execution_count": 10,
     "metadata": {},
     "output_type": "execute_result"
    }
   ],
   "source": [
    "# RESPONDENDO A PRIMEIRA PERGUNTA CONSIDERANDO QUE \"NÚMERO DE LISTINGS\" É A QUANTIDADE DE ANÚNCIOS POR BAIRRO\n",
    "t2=t1.groupby('suburb').count().sort_values('airbnb_listing_id')\n",
    "t2"
   ]
  },
  {
   "cell_type": "markdown",
   "id": "dd81dda0",
   "metadata": {},
   "source": [
    "Respondendo a Segunda Pergunta"
   ]
  },
  {
   "cell_type": "code",
   "execution_count": 12,
   "id": "37dd838c",
   "metadata": {},
   "outputs": [
    {
     "data": {
      "text/html": [
       "<div>\n",
       "<style scoped>\n",
       "    .dataframe tbody tr th:only-of-type {\n",
       "        vertical-align: middle;\n",
       "    }\n",
       "\n",
       "    .dataframe tbody tr th {\n",
       "        vertical-align: top;\n",
       "    }\n",
       "\n",
       "    .dataframe thead th {\n",
       "        text-align: right;\n",
       "    }\n",
       "</style>\n",
       "<table border=\"1\" class=\"dataframe\">\n",
       "  <thead>\n",
       "    <tr style=\"text-align: right;\">\n",
       "      <th></th>\n",
       "      <th>suburb</th>\n",
       "      <th>price_string</th>\n",
       "    </tr>\n",
       "  </thead>\n",
       "  <tbody>\n",
       "    <tr>\n",
       "      <th>0</th>\n",
       "      <td>Jurerê</td>\n",
       "      <td>270.0</td>\n",
       "    </tr>\n",
       "    <tr>\n",
       "      <th>1</th>\n",
       "      <td>Jurerê</td>\n",
       "      <td>270.0</td>\n",
       "    </tr>\n",
       "    <tr>\n",
       "      <th>2</th>\n",
       "      <td>Jurerê</td>\n",
       "      <td>270.0</td>\n",
       "    </tr>\n",
       "    <tr>\n",
       "      <th>3</th>\n",
       "      <td>Jurerê</td>\n",
       "      <td>270.0</td>\n",
       "    </tr>\n",
       "  </tbody>\n",
       "</table>\n",
       "</div>"
      ],
      "text/plain": [
       "   suburb  price_string\n",
       "0  Jurerê         270.0\n",
       "1  Jurerê         270.0\n",
       "2  Jurerê         270.0\n",
       "3  Jurerê         270.0"
      ]
     },
     "execution_count": 12,
     "metadata": {},
     "output_type": "execute_result"
    }
   ],
   "source": [
    "# CRIANDO VISUALIZAÇÃO PARA RESPONDER A SEGUNDA PERGUNTA\n",
    "t3 = t[['suburb','price_string']]\n",
    "t3.head(4)"
   ]
  },
  {
   "cell_type": "code",
   "execution_count": 14,
   "id": "3d8f2432",
   "metadata": {},
   "outputs": [
    {
     "data": {
      "text/html": [
       "<div>\n",
       "<style scoped>\n",
       "    .dataframe tbody tr th:only-of-type {\n",
       "        vertical-align: middle;\n",
       "    }\n",
       "\n",
       "    .dataframe tbody tr th {\n",
       "        vertical-align: top;\n",
       "    }\n",
       "\n",
       "    .dataframe thead th {\n",
       "        text-align: right;\n",
       "    }\n",
       "</style>\n",
       "<table border=\"1\" class=\"dataframe\">\n",
       "  <thead>\n",
       "    <tr style=\"text-align: right;\">\n",
       "      <th></th>\n",
       "      <th>price_string</th>\n",
       "    </tr>\n",
       "    <tr>\n",
       "      <th>suburb</th>\n",
       "      <th></th>\n",
       "    </tr>\n",
       "  </thead>\n",
       "  <tbody>\n",
       "    <tr>\n",
       "      <th>Centro</th>\n",
       "      <td>219.088990</td>\n",
       "    </tr>\n",
       "    <tr>\n",
       "      <th>Lagoa da Conceição</th>\n",
       "      <td>250.514148</td>\n",
       "    </tr>\n",
       "    <tr>\n",
       "      <th>Canasvieiras</th>\n",
       "      <td>292.571139</td>\n",
       "    </tr>\n",
       "    <tr>\n",
       "      <th>Ingleses</th>\n",
       "      <td>350.371020</td>\n",
       "    </tr>\n",
       "    <tr>\n",
       "      <th>Jurerê</th>\n",
       "      <td>406.074854</td>\n",
       "    </tr>\n",
       "  </tbody>\n",
       "</table>\n",
       "</div>"
      ],
      "text/plain": [
       "                    price_string\n",
       "suburb                          \n",
       "Centro                219.088990\n",
       "Lagoa da Conceição    250.514148\n",
       "Canasvieiras          292.571139\n",
       "Ingleses              350.371020\n",
       "Jurerê                406.074854"
      ]
     },
     "execution_count": 14,
     "metadata": {},
     "output_type": "execute_result"
    }
   ],
   "source": [
    "# RESPONDENDO A SEGUNDA PERGUNTA\n",
    "t4 = t3.groupby('suburb').mean().sort_values('price_string')\n",
    "t4"
   ]
  },
  {
   "cell_type": "markdown",
   "id": "47e1b58e",
   "metadata": {},
   "source": [
    "Importando Biblioteca para Visualização Gráfica"
   ]
  },
  {
   "cell_type": "code",
   "execution_count": 16,
   "id": "1e1515eb",
   "metadata": {},
   "outputs": [
    {
     "data": {
      "text/plain": [
       "<AxesSubplot:title={'center':'Média de faturamento'}, ylabel='Vlr Médio'>"
      ]
     },
     "execution_count": 16,
     "metadata": {},
     "output_type": "execute_result"
    },
    {
     "data": {
      "image/png": "[encoded data removed]",
      "text/plain": [
       "<Figure size 432x288 with 1 Axes>"
      ]
     },
     "metadata": {
      "needs_background": "light"
     },
     "output_type": "display_data"
    }
   ],
   "source": [
    "# CRIANDO UM GRÁFICO PARA A RESPOSTA DA SEGUNDA PERGUNTA\n",
    "import matplotlib.pyplot as plt\n",
    "plt.rcParams.update({'font.size':14})\n",
    "t4.plot(kind='bar',color='red',title='Média de faturamento',xlabel='',ylabel='Vlr Médio')"
   ]
  },
  {
   "cell_type": "markdown",
   "id": "536f8a50",
   "metadata": {},
   "source": [
    "Respondendo a Terceira Pergunta"
   ]
  },
  {
   "cell_type": "code",
   "execution_count": 18,
   "id": "3c7c63dd",
   "metadata": {},
   "outputs": [
    {
     "data": {
      "text/html": [
       "<div>\n",
       "<style scoped>\n",
       "    .dataframe tbody tr th:only-of-type {\n",
       "        vertical-align: middle;\n",
       "    }\n",
       "\n",
       "    .dataframe tbody tr th {\n",
       "        vertical-align: top;\n",
       "    }\n",
       "\n",
       "    .dataframe thead th {\n",
       "        text-align: right;\n",
       "    }\n",
       "</style>\n",
       "<table border=\"1\" class=\"dataframe\">\n",
       "  <thead>\n",
       "    <tr style=\"text-align: right;\">\n",
       "      <th></th>\n",
       "      <th>suburb</th>\n",
       "      <th>star_rating</th>\n",
       "      <th>price_string</th>\n",
       "    </tr>\n",
       "  </thead>\n",
       "  <tbody>\n",
       "    <tr>\n",
       "      <th>0</th>\n",
       "      <td>Jurerê</td>\n",
       "      <td>5.0</td>\n",
       "      <td>270.0</td>\n",
       "    </tr>\n",
       "    <tr>\n",
       "      <th>1</th>\n",
       "      <td>Jurerê</td>\n",
       "      <td>5.0</td>\n",
       "      <td>270.0</td>\n",
       "    </tr>\n",
       "    <tr>\n",
       "      <th>2</th>\n",
       "      <td>Jurerê</td>\n",
       "      <td>5.0</td>\n",
       "      <td>270.0</td>\n",
       "    </tr>\n",
       "    <tr>\n",
       "      <th>3</th>\n",
       "      <td>Jurerê</td>\n",
       "      <td>5.0</td>\n",
       "      <td>270.0</td>\n",
       "    </tr>\n",
       "  </tbody>\n",
       "</table>\n",
       "</div>"
      ],
      "text/plain": [
       "   suburb  star_rating  price_string\n",
       "0  Jurerê          5.0         270.0\n",
       "1  Jurerê          5.0         270.0\n",
       "2  Jurerê          5.0         270.0\n",
       "3  Jurerê          5.0         270.0"
      ]
     },
     "execution_count": 18,
     "metadata": {},
     "output_type": "execute_result"
    }
   ],
   "source": [
    "# CRIANDO VISUALIZAÇÃO PARA RESPONDER A TERCEIRA PERGUNTA\n",
    "t5 = t[['suburb','star_rating','price_string']]\n",
    "t5.head(4)"
   ]
  },
  {
   "cell_type": "code",
   "execution_count": 19,
   "id": "df923e79",
   "metadata": {},
   "outputs": [
    {
     "data": {
      "text/html": [
       "<div>\n",
       "<style scoped>\n",
       "    .dataframe tbody tr th:only-of-type {\n",
       "        vertical-align: middle;\n",
       "    }\n",
       "\n",
       "    .dataframe tbody tr th {\n",
       "        vertical-align: top;\n",
       "    }\n",
       "\n",
       "    .dataframe thead th {\n",
       "        text-align: right;\n",
       "    }\n",
       "</style>\n",
       "<table border=\"1\" class=\"dataframe\">\n",
       "  <thead>\n",
       "    <tr style=\"text-align: right;\">\n",
       "      <th></th>\n",
       "      <th></th>\n",
       "      <th>price_string</th>\n",
       "    </tr>\n",
       "    <tr>\n",
       "      <th>suburb</th>\n",
       "      <th>star_rating</th>\n",
       "      <th></th>\n",
       "    </tr>\n",
       "  </thead>\n",
       "  <tbody>\n",
       "    <tr>\n",
       "      <th rowspan=\"6\" valign=\"top\">Canasvieiras</th>\n",
       "      <th>0.0</th>\n",
       "      <td>62860.0</td>\n",
       "    </tr>\n",
       "    <tr>\n",
       "      <th>3.0</th>\n",
       "      <td>31012.0</td>\n",
       "    </tr>\n",
       "    <tr>\n",
       "      <th>3.5</th>\n",
       "      <td>95610.0</td>\n",
       "    </tr>\n",
       "    <tr>\n",
       "      <th>4.0</th>\n",
       "      <td>466649.0</td>\n",
       "    </tr>\n",
       "    <tr>\n",
       "      <th>4.5</th>\n",
       "      <td>2951124.0</td>\n",
       "    </tr>\n",
       "    <tr>\n",
       "      <th>5.0</th>\n",
       "      <td>10683100.0</td>\n",
       "    </tr>\n",
       "    <tr>\n",
       "      <th rowspan=\"3\" valign=\"top\">Centro</th>\n",
       "      <th>4.0</th>\n",
       "      <td>171803.0</td>\n",
       "    </tr>\n",
       "    <tr>\n",
       "      <th>4.5</th>\n",
       "      <td>777278.0</td>\n",
       "    </tr>\n",
       "    <tr>\n",
       "      <th>5.0</th>\n",
       "      <td>2340184.0</td>\n",
       "    </tr>\n",
       "    <tr>\n",
       "      <th rowspan=\"6\" valign=\"top\">Ingleses</th>\n",
       "      <th>0.0</th>\n",
       "      <td>136010.0</td>\n",
       "    </tr>\n",
       "    <tr>\n",
       "      <th>3.0</th>\n",
       "      <td>53200.0</td>\n",
       "    </tr>\n",
       "    <tr>\n",
       "      <th>3.5</th>\n",
       "      <td>65179.0</td>\n",
       "    </tr>\n",
       "    <tr>\n",
       "      <th>4.0</th>\n",
       "      <td>441954.0</td>\n",
       "    </tr>\n",
       "    <tr>\n",
       "      <th>4.5</th>\n",
       "      <td>5742351.0</td>\n",
       "    </tr>\n",
       "    <tr>\n",
       "      <th>5.0</th>\n",
       "      <td>23142856.0</td>\n",
       "    </tr>\n",
       "    <tr>\n",
       "      <th rowspan=\"3\" valign=\"top\">Jurerê</th>\n",
       "      <th>4.0</th>\n",
       "      <td>80054.0</td>\n",
       "    </tr>\n",
       "    <tr>\n",
       "      <th>4.5</th>\n",
       "      <td>3244310.0</td>\n",
       "    </tr>\n",
       "    <tr>\n",
       "      <th>5.0</th>\n",
       "      <td>11938818.0</td>\n",
       "    </tr>\n",
       "    <tr>\n",
       "      <th rowspan=\"4\" valign=\"top\">Lagoa da Conceição</th>\n",
       "      <th>3.5</th>\n",
       "      <td>45572.0</td>\n",
       "    </tr>\n",
       "    <tr>\n",
       "      <th>4.0</th>\n",
       "      <td>95133.0</td>\n",
       "    </tr>\n",
       "    <tr>\n",
       "      <th>4.5</th>\n",
       "      <td>1029550.0</td>\n",
       "    </tr>\n",
       "    <tr>\n",
       "      <th>5.0</th>\n",
       "      <td>3220965.0</td>\n",
       "    </tr>\n",
       "  </tbody>\n",
       "</table>\n",
       "</div>"
      ],
      "text/plain": [
       "                                price_string\n",
       "suburb             star_rating              \n",
       "Canasvieiras       0.0               62860.0\n",
       "                   3.0               31012.0\n",
       "                   3.5               95610.0\n",
       "                   4.0              466649.0\n",
       "                   4.5             2951124.0\n",
       "                   5.0            10683100.0\n",
       "Centro             4.0              171803.0\n",
       "                   4.5              777278.0\n",
       "                   5.0             2340184.0\n",
       "Ingleses           0.0              136010.0\n",
       "                   3.0               53200.0\n",
       "                   3.5               65179.0\n",
       "                   4.0              441954.0\n",
       "                   4.5             5742351.0\n",
       "                   5.0            23142856.0\n",
       "Jurerê             4.0               80054.0\n",
       "                   4.5             3244310.0\n",
       "                   5.0            11938818.0\n",
       "Lagoa da Conceição 3.5               45572.0\n",
       "                   4.0               95133.0\n",
       "                   4.5             1029550.0\n",
       "                   5.0             3220965.0"
      ]
     },
     "execution_count": 19,
     "metadata": {},
     "output_type": "execute_result"
    }
   ],
   "source": [
    "# RESPONDENDO A TERCEIRA PERGUNTA\n",
    "t6 = t5.groupby(['suburb','star_rating']).sum('price_string')\n",
    "t6"
   ]
  },
  {
   "cell_type": "code",
   "execution_count": 20,
   "id": "6258fa1e",
   "metadata": {},
   "outputs": [
    {
     "data": {
      "text/plain": [
       "<AxesSubplot:title={'center':'Avaliações vs Faturamento'}, ylabel='Faturamento'>"
      ]
     },
     "execution_count": 20,
     "metadata": {},
     "output_type": "execute_result"
    },
    {
     "data": {
      "image/png": "[encoded data removed]",
      "text/plain": [
       "<Figure size 432x288 with 1 Axes>"
      ]
     },
     "metadata": {
      "needs_background": "light"
     },
     "output_type": "display_data"
    }
   ],
   "source": [
    "# CRIANDO UM GRÁFICO PARA A RESPOSTA DA TERCEIRA PERGUNTA\n",
    "t6.plot(kind='bar',color='red',title='Avaliações vs Faturamento',xlabel='',ylabel='Faturamento')"
   ]
  },
  {
   "cell_type": "markdown",
   "id": "7a2e738c",
   "metadata": {},
   "source": [
    "Respondendo a Quarta Pergunta"
   ]
  },
  {
   "cell_type": "markdown",
   "id": "87d4c247",
   "metadata": {},
   "source": [
    "Importando Bibliotecas"
   ]
  },
  {
   "cell_type": "code",
   "execution_count": 22,
   "id": "f63979a5",
   "metadata": {},
   "outputs": [],
   "source": [
    "import datetime\n",
    "from datetime import date"
   ]
  },
  {
   "cell_type": "code",
   "execution_count": 25,
   "id": "cd70b9d3",
   "metadata": {},
   "outputs": [
    {
     "data": {
      "text/html": [
       "<div>\n",
       "<style scoped>\n",
       "    .dataframe tbody tr th:only-of-type {\n",
       "        vertical-align: middle;\n",
       "    }\n",
       "\n",
       "    .dataframe tbody tr th {\n",
       "        vertical-align: top;\n",
       "    }\n",
       "\n",
       "    .dataframe thead th {\n",
       "        text-align: right;\n",
       "    }\n",
       "</style>\n",
       "<table border=\"1\" class=\"dataframe\">\n",
       "  <thead>\n",
       "    <tr style=\"text-align: right;\">\n",
       "      <th></th>\n",
       "      <th>date</th>\n",
       "      <th>booked_on</th>\n",
       "      <th>occupied</th>\n",
       "    </tr>\n",
       "  </thead>\n",
       "  <tbody>\n",
       "    <tr>\n",
       "      <th>0</th>\n",
       "      <td>2020-12-04</td>\n",
       "      <td>2020-12-04 00:00:00</td>\n",
       "      <td>1</td>\n",
       "    </tr>\n",
       "    <tr>\n",
       "      <th>1</th>\n",
       "      <td>2020-12-05</td>\n",
       "      <td>2020-12-04 00:00:00</td>\n",
       "      <td>1</td>\n",
       "    </tr>\n",
       "    <tr>\n",
       "      <th>2</th>\n",
       "      <td>2020-12-06</td>\n",
       "      <td>2020-12-04 00:00:00</td>\n",
       "      <td>1</td>\n",
       "    </tr>\n",
       "    <tr>\n",
       "      <th>3</th>\n",
       "      <td>2020-12-07</td>\n",
       "      <td>2020-12-04 00:00:00</td>\n",
       "      <td>1</td>\n",
       "    </tr>\n",
       "  </tbody>\n",
       "</table>\n",
       "</div>"
      ],
      "text/plain": [
       "         date            booked_on  occupied\n",
       "0  2020-12-04  2020-12-04 00:00:00         1\n",
       "1  2020-12-05  2020-12-04 00:00:00         1\n",
       "2  2020-12-06  2020-12-04 00:00:00         1\n",
       "3  2020-12-07  2020-12-04 00:00:00         1"
      ]
     },
     "execution_count": 25,
     "metadata": {},
     "output_type": "execute_result"
    }
   ],
   "source": [
    "# CRIANDO VISUALIZAÇÃO PARA RESPONDER A QUARTA PERGUNTA\n",
    "t7 = t[['date',\n",
    "        'booked_on',\n",
    "        'occupied']]\n",
    "t7.head(4)"
   ]
  },
  {
   "cell_type": "markdown",
   "id": "9158d88b",
   "metadata": {},
   "source": [
    "Começando uma Série de Alterações nos Tipos de Dados e Incluindo Colunas Calculadas"
   ]
  },
  {
   "cell_type": "code",
   "execution_count": 26,
   "id": "9811c8dd",
   "metadata": {},
   "outputs": [
    {
     "name": "stderr",
     "output_type": "stream",
     "text": [
      "C:\\Users\\Usuario\\AppData\\Local\\Temp/ipykernel_928/4206147959.py:2: SettingWithCopyWarning: \n",
      "A value is trying to be set on a copy of a slice from a DataFrame.\n",
      "Try using .loc[row_indexer,col_indexer] = value instead\n",
      "\n",
      "See the caveats in the documentation: https://pandas.pydata.org/pandas-docs/stable/user_guide/indexing.html#returning-a-view-versus-a-copy\n",
      "  t7['date'] = t7['date'].astype('datetime64')\n"
     ]
    }
   ],
   "source": [
    "# ALTERANDO O TIPO DE DADOS DA COLUNA date\n",
    "t7['date'] = t7['date'].astype('datetime64')"
   ]
  },
  {
   "cell_type": "code",
   "execution_count": 27,
   "id": "ef40562a",
   "metadata": {},
   "outputs": [
    {
     "name": "stderr",
     "output_type": "stream",
     "text": [
      "C:\\Users\\Usuario\\AppData\\Local\\Temp/ipykernel_928/3088842442.py:2: SettingWithCopyWarning: \n",
      "A value is trying to be set on a copy of a slice from a DataFrame.\n",
      "Try using .loc[row_indexer,col_indexer] = value instead\n",
      "\n",
      "See the caveats in the documentation: https://pandas.pydata.org/pandas-docs/stable/user_guide/indexing.html#returning-a-view-versus-a-copy\n",
      "  t7['booked_on'] = (t7['booked_on'].str.replace('blank','')).astype('datetime64')\n"
     ]
    }
   ],
   "source": [
    "# ALTERANDO O TIPO DE DADOS DA COLUNA booked_on\n",
    "t7['booked_on'] = (t7['booked_on'].str.replace('blank','')).astype('datetime64')"
   ]
  },
  {
   "cell_type": "code",
   "execution_count": 29,
   "id": "b8fe79dc",
   "metadata": {},
   "outputs": [
    {
     "data": {
      "text/html": [
       "<div>\n",
       "<style scoped>\n",
       "    .dataframe tbody tr th:only-of-type {\n",
       "        vertical-align: middle;\n",
       "    }\n",
       "\n",
       "    .dataframe tbody tr th {\n",
       "        vertical-align: top;\n",
       "    }\n",
       "\n",
       "    .dataframe thead th {\n",
       "        text-align: right;\n",
       "    }\n",
       "</style>\n",
       "<table border=\"1\" class=\"dataframe\">\n",
       "  <thead>\n",
       "    <tr style=\"text-align: right;\">\n",
       "      <th></th>\n",
       "      <th>date</th>\n",
       "      <th>booked_on</th>\n",
       "      <th>occupied</th>\n",
       "    </tr>\n",
       "  </thead>\n",
       "  <tbody>\n",
       "    <tr>\n",
       "      <th>0</th>\n",
       "      <td>2020-12-04</td>\n",
       "      <td>2020-12-04</td>\n",
       "      <td>1</td>\n",
       "    </tr>\n",
       "    <tr>\n",
       "      <th>1</th>\n",
       "      <td>2020-12-05</td>\n",
       "      <td>2020-12-04</td>\n",
       "      <td>1</td>\n",
       "    </tr>\n",
       "    <tr>\n",
       "      <th>2</th>\n",
       "      <td>2020-12-06</td>\n",
       "      <td>2020-12-04</td>\n",
       "      <td>1</td>\n",
       "    </tr>\n",
       "    <tr>\n",
       "      <th>3</th>\n",
       "      <td>2020-12-07</td>\n",
       "      <td>2020-12-04</td>\n",
       "      <td>1</td>\n",
       "    </tr>\n",
       "  </tbody>\n",
       "</table>\n",
       "</div>"
      ],
      "text/plain": [
       "        date  booked_on  occupied\n",
       "0 2020-12-04 2020-12-04         1\n",
       "1 2020-12-05 2020-12-04         1\n",
       "2 2020-12-06 2020-12-04         1\n",
       "3 2020-12-07 2020-12-04         1"
      ]
     },
     "execution_count": 29,
     "metadata": {},
     "output_type": "execute_result"
    }
   ],
   "source": [
    "# FILTRANDO OS DADOS QUE CONSTAM OCUPAÇÃO PARA ANALISAR A ANTECEDÊNCIA\n",
    "t8 = t7.loc[t7['occupied']==1]\n",
    "t8.head(4)"
   ]
  },
  {
   "cell_type": "markdown",
   "id": "a579c009",
   "metadata": {},
   "source": [
    "Calculando a Antecedência"
   ]
  },
  {
   "cell_type": "code",
   "execution_count": 30,
   "id": "10802801",
   "metadata": {},
   "outputs": [
    {
     "name": "stderr",
     "output_type": "stream",
     "text": [
      "C:\\Users\\Usuario\\AppData\\Local\\Temp/ipykernel_928/1541687544.py:2: SettingWithCopyWarning: \n",
      "A value is trying to be set on a copy of a slice from a DataFrame.\n",
      "Try using .loc[row_indexer,col_indexer] = value instead\n",
      "\n",
      "See the caveats in the documentation: https://pandas.pydata.org/pandas-docs/stable/user_guide/indexing.html#returning-a-view-versus-a-copy\n",
      "  t8['antecipation'] = t8['date'] - t8['booked_on']\n"
     ]
    },
    {
     "data": {
      "text/html": [
       "<div>\n",
       "<style scoped>\n",
       "    .dataframe tbody tr th:only-of-type {\n",
       "        vertical-align: middle;\n",
       "    }\n",
       "\n",
       "    .dataframe tbody tr th {\n",
       "        vertical-align: top;\n",
       "    }\n",
       "\n",
       "    .dataframe thead th {\n",
       "        text-align: right;\n",
       "    }\n",
       "</style>\n",
       "<table border=\"1\" class=\"dataframe\">\n",
       "  <thead>\n",
       "    <tr style=\"text-align: right;\">\n",
       "      <th></th>\n",
       "      <th>date</th>\n",
       "      <th>booked_on</th>\n",
       "      <th>occupied</th>\n",
       "      <th>antecipation</th>\n",
       "    </tr>\n",
       "  </thead>\n",
       "  <tbody>\n",
       "    <tr>\n",
       "      <th>0</th>\n",
       "      <td>2020-12-04</td>\n",
       "      <td>2020-12-04</td>\n",
       "      <td>1</td>\n",
       "      <td>0 days</td>\n",
       "    </tr>\n",
       "    <tr>\n",
       "      <th>1</th>\n",
       "      <td>2020-12-05</td>\n",
       "      <td>2020-12-04</td>\n",
       "      <td>1</td>\n",
       "      <td>1 days</td>\n",
       "    </tr>\n",
       "    <tr>\n",
       "      <th>2</th>\n",
       "      <td>2020-12-06</td>\n",
       "      <td>2020-12-04</td>\n",
       "      <td>1</td>\n",
       "      <td>2 days</td>\n",
       "    </tr>\n",
       "    <tr>\n",
       "      <th>3</th>\n",
       "      <td>2020-12-07</td>\n",
       "      <td>2020-12-04</td>\n",
       "      <td>1</td>\n",
       "      <td>3 days</td>\n",
       "    </tr>\n",
       "  </tbody>\n",
       "</table>\n",
       "</div>"
      ],
      "text/plain": [
       "        date  booked_on  occupied antecipation\n",
       "0 2020-12-04 2020-12-04         1       0 days\n",
       "1 2020-12-05 2020-12-04         1       1 days\n",
       "2 2020-12-06 2020-12-04         1       2 days\n",
       "3 2020-12-07 2020-12-04         1       3 days"
      ]
     },
     "execution_count": 30,
     "metadata": {},
     "output_type": "execute_result"
    }
   ],
   "source": [
    "# CALCULANDO A ANTECEDÊNCIA \n",
    "t8['antecipation'] = t8['date'] - t8['booked_on']\n",
    "t8.head(4)"
   ]
  },
  {
   "cell_type": "markdown",
   "id": "17a1d896",
   "metadata": {},
   "source": [
    "Criando Colunas"
   ]
  },
  {
   "cell_type": "code",
   "execution_count": 31,
   "id": "86a48444",
   "metadata": {},
   "outputs": [
    {
     "name": "stderr",
     "output_type": "stream",
     "text": [
      "C:\\Users\\Usuario\\AppData\\Local\\Temp/ipykernel_928/888099653.py:2: SettingWithCopyWarning: \n",
      "A value is trying to be set on a copy of a slice from a DataFrame.\n",
      "Try using .loc[row_indexer,col_indexer] = value instead\n",
      "\n",
      "See the caveats in the documentation: https://pandas.pydata.org/pandas-docs/stable/user_guide/indexing.html#returning-a-view-versus-a-copy\n",
      "  t8['weekday'] = t8['date'].dt.day_name()\n"
     ]
    },
    {
     "data": {
      "text/html": [
       "<div>\n",
       "<style scoped>\n",
       "    .dataframe tbody tr th:only-of-type {\n",
       "        vertical-align: middle;\n",
       "    }\n",
       "\n",
       "    .dataframe tbody tr th {\n",
       "        vertical-align: top;\n",
       "    }\n",
       "\n",
       "    .dataframe thead th {\n",
       "        text-align: right;\n",
       "    }\n",
       "</style>\n",
       "<table border=\"1\" class=\"dataframe\">\n",
       "  <thead>\n",
       "    <tr style=\"text-align: right;\">\n",
       "      <th></th>\n",
       "      <th>date</th>\n",
       "      <th>booked_on</th>\n",
       "      <th>occupied</th>\n",
       "      <th>antecipation</th>\n",
       "      <th>weekday</th>\n",
       "    </tr>\n",
       "  </thead>\n",
       "  <tbody>\n",
       "    <tr>\n",
       "      <th>0</th>\n",
       "      <td>2020-12-04</td>\n",
       "      <td>2020-12-04</td>\n",
       "      <td>1</td>\n",
       "      <td>0 days</td>\n",
       "      <td>Friday</td>\n",
       "    </tr>\n",
       "    <tr>\n",
       "      <th>1</th>\n",
       "      <td>2020-12-05</td>\n",
       "      <td>2020-12-04</td>\n",
       "      <td>1</td>\n",
       "      <td>1 days</td>\n",
       "      <td>Saturday</td>\n",
       "    </tr>\n",
       "    <tr>\n",
       "      <th>2</th>\n",
       "      <td>2020-12-06</td>\n",
       "      <td>2020-12-04</td>\n",
       "      <td>1</td>\n",
       "      <td>2 days</td>\n",
       "      <td>Sunday</td>\n",
       "    </tr>\n",
       "    <tr>\n",
       "      <th>3</th>\n",
       "      <td>2020-12-07</td>\n",
       "      <td>2020-12-04</td>\n",
       "      <td>1</td>\n",
       "      <td>3 days</td>\n",
       "      <td>Monday</td>\n",
       "    </tr>\n",
       "  </tbody>\n",
       "</table>\n",
       "</div>"
      ],
      "text/plain": [
       "        date  booked_on  occupied antecipation   weekday\n",
       "0 2020-12-04 2020-12-04         1       0 days    Friday\n",
       "1 2020-12-05 2020-12-04         1       1 days  Saturday\n",
       "2 2020-12-06 2020-12-04         1       2 days    Sunday\n",
       "3 2020-12-07 2020-12-04         1       3 days    Monday"
      ]
     },
     "execution_count": 31,
     "metadata": {},
     "output_type": "execute_result"
    }
   ],
   "source": [
    "# CRIANDO UMA COLUNA COM O NOME DO DIA DA SEMANA PARA AVALIAR A ANTECEDÊNCIA POR DIA\n",
    "t8['weekday'] = t8['date'].dt.day_name()\n",
    "t8.head(4)"
   ]
  },
  {
   "cell_type": "code",
   "execution_count": 33,
   "id": "077bb120",
   "metadata": {},
   "outputs": [
    {
     "data": {
      "text/html": [
       "<div>\n",
       "<style scoped>\n",
       "    .dataframe tbody tr th:only-of-type {\n",
       "        vertical-align: middle;\n",
       "    }\n",
       "\n",
       "    .dataframe tbody tr th {\n",
       "        vertical-align: top;\n",
       "    }\n",
       "\n",
       "    .dataframe thead th {\n",
       "        text-align: right;\n",
       "    }\n",
       "</style>\n",
       "<table border=\"1\" class=\"dataframe\">\n",
       "  <thead>\n",
       "    <tr style=\"text-align: right;\">\n",
       "      <th></th>\n",
       "      <th>weekday</th>\n",
       "      <th>antecipation</th>\n",
       "    </tr>\n",
       "  </thead>\n",
       "  <tbody>\n",
       "    <tr>\n",
       "      <th>0</th>\n",
       "      <td>Friday</td>\n",
       "      <td>0 days</td>\n",
       "    </tr>\n",
       "    <tr>\n",
       "      <th>1</th>\n",
       "      <td>Saturday</td>\n",
       "      <td>1 days</td>\n",
       "    </tr>\n",
       "    <tr>\n",
       "      <th>2</th>\n",
       "      <td>Sunday</td>\n",
       "      <td>2 days</td>\n",
       "    </tr>\n",
       "    <tr>\n",
       "      <th>3</th>\n",
       "      <td>Monday</td>\n",
       "      <td>3 days</td>\n",
       "    </tr>\n",
       "  </tbody>\n",
       "</table>\n",
       "</div>"
      ],
      "text/plain": [
       "    weekday antecipation\n",
       "0    Friday       0 days\n",
       "1  Saturday       1 days\n",
       "2    Sunday       2 days\n",
       "3    Monday       3 days"
      ]
     },
     "execution_count": 33,
     "metadata": {},
     "output_type": "execute_result"
    }
   ],
   "source": [
    "# CRIANDO UMA VISUALIZAÇÃO PARA RESPONDER A QUARTA PERGUNTA\n",
    "t9 = t8[['weekday','antecipation']]\n",
    "t9.head(4)"
   ]
  },
  {
   "cell_type": "code",
   "execution_count": 36,
   "id": "71bf70b3",
   "metadata": {},
   "outputs": [
    {
     "name": "stderr",
     "output_type": "stream",
     "text": [
      "C:\\Users\\Usuario\\AppData\\Local\\Temp/ipykernel_928/668823772.py:2: SettingWithCopyWarning: \n",
      "A value is trying to be set on a copy of a slice from a DataFrame.\n",
      "Try using .loc[row_indexer,col_indexer] = value instead\n",
      "\n",
      "See the caveats in the documentation: https://pandas.pydata.org/pandas-docs/stable/user_guide/indexing.html#returning-a-view-versus-a-copy\n",
      "  t9['difference'] = t9['antecipation'].dt.days\n"
     ]
    },
    {
     "data": {
      "text/html": [
       "<div>\n",
       "<style scoped>\n",
       "    .dataframe tbody tr th:only-of-type {\n",
       "        vertical-align: middle;\n",
       "    }\n",
       "\n",
       "    .dataframe tbody tr th {\n",
       "        vertical-align: top;\n",
       "    }\n",
       "\n",
       "    .dataframe thead th {\n",
       "        text-align: right;\n",
       "    }\n",
       "</style>\n",
       "<table border=\"1\" class=\"dataframe\">\n",
       "  <thead>\n",
       "    <tr style=\"text-align: right;\">\n",
       "      <th></th>\n",
       "      <th>weekday</th>\n",
       "      <th>antecipation</th>\n",
       "      <th>difference</th>\n",
       "    </tr>\n",
       "  </thead>\n",
       "  <tbody>\n",
       "    <tr>\n",
       "      <th>0</th>\n",
       "      <td>Friday</td>\n",
       "      <td>0 days</td>\n",
       "      <td>0</td>\n",
       "    </tr>\n",
       "    <tr>\n",
       "      <th>1</th>\n",
       "      <td>Saturday</td>\n",
       "      <td>1 days</td>\n",
       "      <td>1</td>\n",
       "    </tr>\n",
       "    <tr>\n",
       "      <th>2</th>\n",
       "      <td>Sunday</td>\n",
       "      <td>2 days</td>\n",
       "      <td>2</td>\n",
       "    </tr>\n",
       "    <tr>\n",
       "      <th>3</th>\n",
       "      <td>Monday</td>\n",
       "      <td>3 days</td>\n",
       "      <td>3</td>\n",
       "    </tr>\n",
       "  </tbody>\n",
       "</table>\n",
       "</div>"
      ],
      "text/plain": [
       "    weekday antecipation  difference\n",
       "0    Friday       0 days           0\n",
       "1  Saturday       1 days           1\n",
       "2    Sunday       2 days           2\n",
       "3    Monday       3 days           3"
      ]
     },
     "execution_count": 36,
     "metadata": {},
     "output_type": "execute_result"
    }
   ],
   "source": [
    "# CRIANDO UMA COLUNA DE NÚMEROS INTEIROS PARA FAZER A MÉDIA DE ANTECEDÊNCIA EM DIAS\n",
    "t9['difference'] = t9['antecipation'].dt.days\n",
    "t9.head(4)"
   ]
  },
  {
   "cell_type": "markdown",
   "id": "27013a6b",
   "metadata": {},
   "source": [
    "Ordenado os Dados Corretamente"
   ]
  },
  {
   "cell_type": "code",
   "execution_count": 38,
   "id": "a2ff32de",
   "metadata": {},
   "outputs": [
    {
     "data": {
      "text/html": [
       "<div>\n",
       "<style scoped>\n",
       "    .dataframe tbody tr th:only-of-type {\n",
       "        vertical-align: middle;\n",
       "    }\n",
       "\n",
       "    .dataframe tbody tr th {\n",
       "        vertical-align: top;\n",
       "    }\n",
       "\n",
       "    .dataframe thead th {\n",
       "        text-align: right;\n",
       "    }\n",
       "</style>\n",
       "<table border=\"1\" class=\"dataframe\">\n",
       "  <thead>\n",
       "    <tr style=\"text-align: right;\">\n",
       "      <th></th>\n",
       "      <th>weekday</th>\n",
       "      <th>antecipation</th>\n",
       "      <th>difference</th>\n",
       "    </tr>\n",
       "  </thead>\n",
       "  <tbody>\n",
       "    <tr>\n",
       "      <th>267907</th>\n",
       "      <td>Monday</td>\n",
       "      <td>0 days</td>\n",
       "      <td>0</td>\n",
       "    </tr>\n",
       "    <tr>\n",
       "      <th>351046</th>\n",
       "      <td>Monday</td>\n",
       "      <td>4 days</td>\n",
       "      <td>4</td>\n",
       "    </tr>\n",
       "    <tr>\n",
       "      <th>269031</th>\n",
       "      <td>Monday</td>\n",
       "      <td>6 days</td>\n",
       "      <td>6</td>\n",
       "    </tr>\n",
       "    <tr>\n",
       "      <th>351111</th>\n",
       "      <td>Monday</td>\n",
       "      <td>28 days</td>\n",
       "      <td>28</td>\n",
       "    </tr>\n",
       "  </tbody>\n",
       "</table>\n",
       "</div>"
      ],
      "text/plain": [
       "       weekday antecipation  difference\n",
       "267907  Monday       0 days           0\n",
       "351046  Monday       4 days           4\n",
       "269031  Monday       6 days           6\n",
       "351111  Monday      28 days          28"
      ]
     },
     "execution_count": 38,
     "metadata": {},
     "output_type": "execute_result"
    }
   ],
   "source": [
    "# ORDENANDO OS DIAS DA SEMANA PARA UMA VISUALIZAÇÃO MAIS ADEQUADA DO GRÁFICO\n",
    "days = ['Monday', 'Tuesday', 'Wednesday', 'Thursday', 'Friday', 'Saturday', 'Sunday']\n",
    "t9['weekday'] = pd.Categorical(t9['weekday'], categories=days, ordered=True)\n",
    "t9 = t9.sort_values('weekday')\n",
    "t9.head(4)"
   ]
  },
  {
   "cell_type": "markdown",
   "id": "fa2f2a88",
   "metadata": {},
   "source": [
    "Realizando o Cálculo de Média de Antecedência"
   ]
  },
  {
   "cell_type": "code",
   "execution_count": 39,
   "id": "c3148afd",
   "metadata": {},
   "outputs": [
    {
     "data": {
      "text/html": [
       "<div>\n",
       "<style scoped>\n",
       "    .dataframe tbody tr th:only-of-type {\n",
       "        vertical-align: middle;\n",
       "    }\n",
       "\n",
       "    .dataframe tbody tr th {\n",
       "        vertical-align: top;\n",
       "    }\n",
       "\n",
       "    .dataframe thead th {\n",
       "        text-align: right;\n",
       "    }\n",
       "</style>\n",
       "<table border=\"1\" class=\"dataframe\">\n",
       "  <thead>\n",
       "    <tr style=\"text-align: right;\">\n",
       "      <th></th>\n",
       "      <th>difference</th>\n",
       "    </tr>\n",
       "    <tr>\n",
       "      <th>weekday</th>\n",
       "      <th></th>\n",
       "    </tr>\n",
       "  </thead>\n",
       "  <tbody>\n",
       "    <tr>\n",
       "      <th>Monday</th>\n",
       "      <td>37.436264</td>\n",
       "    </tr>\n",
       "    <tr>\n",
       "      <th>Tuesday</th>\n",
       "      <td>37.301223</td>\n",
       "    </tr>\n",
       "    <tr>\n",
       "      <th>Wednesday</th>\n",
       "      <td>39.377758</td>\n",
       "    </tr>\n",
       "    <tr>\n",
       "      <th>Thursday</th>\n",
       "      <td>39.060660</td>\n",
       "    </tr>\n",
       "    <tr>\n",
       "      <th>Friday</th>\n",
       "      <td>37.749260</td>\n",
       "    </tr>\n",
       "    <tr>\n",
       "      <th>Saturday</th>\n",
       "      <td>36.807565</td>\n",
       "    </tr>\n",
       "    <tr>\n",
       "      <th>Sunday</th>\n",
       "      <td>37.486665</td>\n",
       "    </tr>\n",
       "  </tbody>\n",
       "</table>\n",
       "</div>"
      ],
      "text/plain": [
       "           difference\n",
       "weekday              \n",
       "Monday      37.436264\n",
       "Tuesday     37.301223\n",
       "Wednesday   39.377758\n",
       "Thursday    39.060660\n",
       "Friday      37.749260\n",
       "Saturday    36.807565\n",
       "Sunday      37.486665"
      ]
     },
     "execution_count": 39,
     "metadata": {},
     "output_type": "execute_result"
    }
   ],
   "source": [
    "# CALCULANDO A MÉDIA DE ANTECEDÊNCIA EM DIAS E AGRUPANDO POR DIA DA SEMANA\n",
    "t10 = t9.groupby('weekday').mean('difference')\n",
    "t10"
   ]
  },
  {
   "cell_type": "code",
   "execution_count": 40,
   "id": "b75126ec",
   "metadata": {},
   "outputs": [
    {
     "data": {
      "text/plain": [
       "<AxesSubplot:title={'center':'Média de Antecedência em Dias'}>"
      ]
     },
     "execution_count": 40,
     "metadata": {},
     "output_type": "execute_result"
    },
    {
     "data": {
      "image/png": "[encoded data removed]",
      "text/plain": [
       "<Figure size 432x288 with 1 Axes>"
      ]
     },
     "metadata": {
      "needs_background": "light"
     },
     "output_type": "display_data"
    }
   ],
   "source": [
    "# CRIANDO UM GRÁFICO PARA A RESPOSTA DA QUARTA PERGUNTA\n",
    "t10.plot(kind='bar',color='red',title='Média de Antecedência em Dias',xlabel='',ylabel='')"
   ]
  },
  {
   "cell_type": "code",
   "execution_count": null,
   "id": "04767bab",
   "metadata": {},
   "outputs": [],
   "source": []
  }
 ],
 "metadata": {
  "kernelspec": {
   "display_name": "Python 3 (ipykernel)",
   "language": "python",
   "name": "python3"
  },
  "language_info": {
   "codemirror_mode": {
    "name": "ipython",
    "version": 3
   },
   "file_extension": ".py",
   "mimetype": "text/x-python",
   "name": "python",
   "nbconvert_exporter": "python",
   "pygments_lexer": "ipython3",
   "version": "3.9.7"
  }
 },
 "nbformat": 4,
 "nbformat_minor": 5
}
